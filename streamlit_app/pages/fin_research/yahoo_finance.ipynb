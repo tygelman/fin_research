{
 "cells": [
  {
   "cell_type": "code",
   "execution_count": 11,
   "id": "c96023bf-875a-4302-ab15-0032a6c7441c",
   "metadata": {},
   "outputs": [],
   "source": [
    "#https://medium.com/codestorm/scrape-yahoo-finance-using-pandas-d52f502b7289"
   ]
  },
  {
   "cell_type": "code",
   "execution_count": 1,
   "id": "08cd554a-ed0c-4e6f-934c-8b9ff1f1201f",
   "metadata": {},
   "outputs": [],
   "source": [
    "import pandas as pd\n",
    "import requests\n",
    "import numpy as np"
   ]
  },
  {
   "cell_type": "code",
   "execution_count": 23,
   "id": "3635e1a7-5e91-4a07-9171-55eb1e671235",
   "metadata": {},
   "outputs": [],
   "source": [
    "ticker = \"MSFT\""
   ]
  },
  {
   "cell_type": "code",
   "execution_count": 24,
   "id": "87c3786b-03f0-4c91-9a25-34608e3c8984",
   "metadata": {},
   "outputs": [],
   "source": [
    "#gets data\n",
    "def getdata(url):\n",
    "  r = requests.get(url,headers ={'User-Agent':'Mozilla/5.0 (Windows NT 10.0; Win64; x64) AppleWebKit/537.36 (KHTML, like Gecko) Chrome/91.0.4472.124 Safari/537.36'})\n",
    "  data = pd.read_html(r.text)\n",
    "  return data"
   ]
  },
  {
   "cell_type": "code",
   "execution_count": 25,
   "id": "ce49147c-bf95-405f-8eac-d6ac9d6d7d5b",
   "metadata": {},
   "outputs": [],
   "source": [
    "#scrapes stock summary from Yahoo Finance\n",
    "summary_url = f'https://finance.yahoo.com/quote/{ticker}?p={ticker}'\n",
    "summary_data = getdata(summary_url)\n",
    "#formatting\n",
    "data = [summary_data[0], summary_data[1]]\n",
    "data = pd.concat(summary_data)\n",
    "data.reset_index(drop=True, inplace=True)\n",
    "df = data.transpose()\n",
    "df.columns = df.iloc[0]\n",
    "df = df.drop(0)\n",
    "df = df.reset_index(drop=True)"
   ]
  },
  {
   "cell_type": "code",
   "execution_count": 28,
   "id": "02ea8e7d-8e22-4a97-8026-b5b1414a5804",
   "metadata": {},
   "outputs": [],
   "source": [
    "#scrape stock historical data from Yahoo Finance\n",
    "historiscal_url= f'https://finance.yahoo.com/quote/{ticker}/history?p={ticker}'\n",
    "historiscal_data = getdata(historiscal_url)\n",
    "data = historiscal_data[0]\n",
    "#formatting\n",
    "data = data.iloc[:-1 , :]\n",
    "data = data[data[\"Open\"].str.contains(\"Dividend\") == False]"
   ]
  },
  {
   "cell_type": "code",
   "execution_count": 31,
   "id": "af7c093a-cf86-4f0a-bc05-352ff3b52bdc",
   "metadata": {},
   "outputs": [],
   "source": [
    "data['Date'] = pd.to_datetime(data['Date'])\n",
    "numeric_columns = list(data.columns)[1::]\n",
    "for column_name in numeric_columns:\n",
    "    data[column_name] = data[column_name].str.replace(',', '')\n",
    "    data[column_name] = data[column_name].astype(np.float64)"
   ]
  },
  {
   "cell_type": "code",
   "execution_count": 32,
   "id": "56afd93a-7026-45c6-9d3a-c2b43fece16f",
   "metadata": {},
   "outputs": [],
   "source": [
    "#scrapes stock statistics from Yahoo Finance\n",
    "statistics_url = f'https://finance.yahoo.com/quote/{ticker}/key-statistics?p={ticker}'\n",
    "statistics_data = getdata(statistics_url)"
   ]
  },
  {
   "cell_type": "code",
   "execution_count": 33,
   "id": "d76a2d2c-34e6-4ae9-9f80-ec3ade3e96fd",
   "metadata": {},
   "outputs": [],
   "source": [
    "#defines each statistic as its own index\n",
    "valuation_Measures = statistics_data[0]\n",
    "stock_Price_History = statistics_data[1]\n",
    "share_Statistics = statistics_data[2]\n",
    "dividend_Info = statistics_data[3]\n",
    "fiscal_year = statistics_data[4]\n",
    "profitability_Info = statistics_data[5]\n",
    "management_Efectiveness = statistics_data[6]\n",
    "income_Statement = statistics_data[7]\n",
    "balance_Sheet = statistics_data[8]\n",
    "cash_Flow = statistics_data[9]"
   ]
  },
  {
   "cell_type": "code",
   "execution_count": 36,
   "id": "28e5e7ce-badf-4b63-b8f7-3088b9111feb",
   "metadata": {},
   "outputs": [],
   "source": [
    "data = valuation_Measures\n",
    "df = data.transpose()\n",
    "df = df.reset_index()\n",
    "df.columns = df.iloc[0]\n",
    "df = df.drop(0)\n",
    "df = df.rename(columns={\"Unnamed: 0\": \"Date\"})"
   ]
  },
  {
   "cell_type": "code",
   "execution_count": 37,
   "id": "76712065-6e78-4532-beed-d60be34ea8e1",
   "metadata": {},
   "outputs": [
    {
     "data": {
      "text/html": [
       "<div>\n",
       "<style scoped>\n",
       "    .dataframe tbody tr th:only-of-type {\n",
       "        vertical-align: middle;\n",
       "    }\n",
       "\n",
       "    .dataframe tbody tr th {\n",
       "        vertical-align: top;\n",
       "    }\n",
       "\n",
       "    .dataframe thead th {\n",
       "        text-align: right;\n",
       "    }\n",
       "</style>\n",
       "<table border=\"1\" class=\"dataframe\">\n",
       "  <thead>\n",
       "    <tr style=\"text-align: right;\">\n",
       "      <th></th>\n",
       "      <th>Date</th>\n",
       "      <th>Market Cap (intraday)</th>\n",
       "      <th>Enterprise Value</th>\n",
       "      <th>Trailing P/E</th>\n",
       "      <th>Forward P/E</th>\n",
       "      <th>PEG Ratio (5 yr expected)</th>\n",
       "      <th>Price/Sales (ttm)</th>\n",
       "      <th>Price/Book (mrq)</th>\n",
       "      <th>Enterprise Value/Revenue</th>\n",
       "      <th>Enterprise Value/EBITDA</th>\n",
       "    </tr>\n",
       "  </thead>\n",
       "  <tbody>\n",
       "    <tr>\n",
       "      <th>1</th>\n",
       "      <td>As of Date: 3/8/2023Current</td>\n",
       "      <td>1.91T</td>\n",
       "      <td>1.87T</td>\n",
       "      <td>28.54</td>\n",
       "      <td>23.75</td>\n",
       "      <td>1.93</td>\n",
       "      <td>9.44</td>\n",
       "      <td>10.44</td>\n",
       "      <td>9.18</td>\n",
       "      <td>18.96</td>\n",
       "    </tr>\n",
       "    <tr>\n",
       "      <th>2</th>\n",
       "      <td>12/31/2022</td>\n",
       "      <td>1.79T</td>\n",
       "      <td>1.74T</td>\n",
       "      <td>25.81</td>\n",
       "      <td>25.19</td>\n",
       "      <td>2.12</td>\n",
       "      <td>8.88</td>\n",
       "      <td>10.30</td>\n",
       "      <td>33.00</td>\n",
       "      <td>71.12</td>\n",
       "    </tr>\n",
       "    <tr>\n",
       "      <th>3</th>\n",
       "      <td>9/30/2022</td>\n",
       "      <td>1.74T</td>\n",
       "      <td>1.69T</td>\n",
       "      <td>24.13</td>\n",
       "      <td>23.09</td>\n",
       "      <td>1.73</td>\n",
       "      <td>8.86</td>\n",
       "      <td>10.43</td>\n",
       "      <td>33.78</td>\n",
       "      <td>68.11</td>\n",
       "    </tr>\n",
       "    <tr>\n",
       "      <th>4</th>\n",
       "      <td>6/30/2022</td>\n",
       "      <td>1.92T</td>\n",
       "      <td>1.87T</td>\n",
       "      <td>26.81</td>\n",
       "      <td>23.81</td>\n",
       "      <td>1.73</td>\n",
       "      <td>10.08</td>\n",
       "      <td>11.77</td>\n",
       "      <td>36.12</td>\n",
       "      <td>75.06</td>\n",
       "    </tr>\n",
       "    <tr>\n",
       "      <th>5</th>\n",
       "      <td>3/31/2022</td>\n",
       "      <td>2.31T</td>\n",
       "      <td>2.25T</td>\n",
       "      <td>32.83</td>\n",
       "      <td>28.57</td>\n",
       "      <td>2.12</td>\n",
       "      <td>12.63</td>\n",
       "      <td>14.42</td>\n",
       "      <td>45.50</td>\n",
       "      <td>91.79</td>\n",
       "    </tr>\n",
       "    <tr>\n",
       "      <th>6</th>\n",
       "      <td>12/31/2021</td>\n",
       "      <td>2.52T</td>\n",
       "      <td>2.46T</td>\n",
       "      <td>37.62</td>\n",
       "      <td>36.90</td>\n",
       "      <td>2.87</td>\n",
       "      <td>14.48</td>\n",
       "      <td>16.60</td>\n",
       "      <td>47.46</td>\n",
       "      <td>92.52</td>\n",
       "    </tr>\n",
       "  </tbody>\n",
       "</table>\n",
       "</div>"
      ],
      "text/plain": [
       "0                         Date Market Cap (intraday) Enterprise Value  \\\n",
       "1  As of Date: 3/8/2023Current                 1.91T            1.87T   \n",
       "2                   12/31/2022                 1.79T            1.74T   \n",
       "3                    9/30/2022                 1.74T            1.69T   \n",
       "4                    6/30/2022                 1.92T            1.87T   \n",
       "5                    3/31/2022                 2.31T            2.25T   \n",
       "6                   12/31/2021                 2.52T            2.46T   \n",
       "\n",
       "0 Trailing P/E Forward P/E PEG Ratio (5 yr expected) Price/Sales (ttm)  \\\n",
       "1        28.54       23.75                      1.93              9.44   \n",
       "2        25.81       25.19                      2.12              8.88   \n",
       "3        24.13       23.09                      1.73              8.86   \n",
       "4        26.81       23.81                      1.73             10.08   \n",
       "5        32.83       28.57                      2.12             12.63   \n",
       "6        37.62       36.90                      2.87             14.48   \n",
       "\n",
       "0 Price/Book (mrq) Enterprise Value/Revenue Enterprise Value/EBITDA  \n",
       "1            10.44                     9.18                   18.96  \n",
       "2            10.30                    33.00                   71.12  \n",
       "3            10.43                    33.78                   68.11  \n",
       "4            11.77                    36.12                   75.06  \n",
       "5            14.42                    45.50                   91.79  \n",
       "6            16.60                    47.46                   92.52  "
      ]
     },
     "execution_count": 37,
     "metadata": {},
     "output_type": "execute_result"
    }
   ],
   "source": [
    "df"
   ]
  },
  {
   "cell_type": "code",
   "execution_count": null,
   "id": "38e90a49-0b11-41f2-a166-32c2a858e9f0",
   "metadata": {},
   "outputs": [],
   "source": []
  }
 ],
 "metadata": {
  "kernelspec": {
   "display_name": "Python 3 (ipykernel)",
   "language": "python",
   "name": "python3"
  },
  "language_info": {
   "codemirror_mode": {
    "name": "ipython",
    "version": 3
   },
   "file_extension": ".py",
   "mimetype": "text/x-python",
   "name": "python",
   "nbconvert_exporter": "python",
   "pygments_lexer": "ipython3",
   "version": "3.9.7"
  }
 },
 "nbformat": 4,
 "nbformat_minor": 5
}
