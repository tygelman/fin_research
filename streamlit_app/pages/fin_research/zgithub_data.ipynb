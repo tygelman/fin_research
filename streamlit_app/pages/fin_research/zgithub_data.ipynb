{
 "cells": [
  {
   "cell_type": "code",
   "execution_count": 1,
   "id": "c09c71d1-838f-4d9c-a573-a1458fbed1d2",
   "metadata": {},
   "outputs": [],
   "source": [
    "#https://github.com/ashishpatel26/NYSE-STOCK_MARKET-ANALYSIS-USING-LSTM"
   ]
  },
  {
   "cell_type": "code",
   "execution_count": null,
   "id": "858bca0e-4c17-4c80-9f9a-8d942d20f791",
   "metadata": {},
   "outputs": [],
   "source": []
  }
 ],
 "metadata": {
  "kernelspec": {
   "display_name": "Python 3 (ipykernel)",
   "language": "python",
   "name": "python3"
  },
  "language_info": {
   "codemirror_mode": {
    "name": "ipython",
    "version": 3
   },
   "file_extension": ".py",
   "mimetype": "text/x-python",
   "name": "python",
   "nbconvert_exporter": "python",
   "pygments_lexer": "ipython3",
   "version": "3.9.7"
  }
 },
 "nbformat": 4,
 "nbformat_minor": 5
}
